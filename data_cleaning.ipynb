{
 "cells": [
  {
   "cell_type": "markdown",
   "metadata": {},
   "source": [
    "### Older Dataset with IconClass Notation\n",
    "These first blocks of code were written with the explorative intention of resolving and using as discrete qualitative data the natural language description of the iconclass notation, being this one chosen as a descriptive method to list all the iconographic elements of an artwork."
   ]
  },
  {
   "cell_type": "code",
   "execution_count": null,
   "metadata": {},
   "outputs": [],
   "source": [
    "import pandas as pd\n",
    "\n",
    "df = pd.read_csv('./dataset_wikidata_works.csv')\n",
    "df.head()"
   ]
  },
  {
   "cell_type": "code",
   "execution_count": null,
   "metadata": {},
   "outputs": [],
   "source": [
    "#api test\n",
    "import requests as rq\n",
    "import json\n",
    "\n",
    "request = rq.get('https://iconclass.org/%s.json'%('95A(SISYPHUS)6'))\n",
    "json = request.json()\n",
    "json['txt']['en']"
   ]
  },
  {
   "cell_type": "code",
   "execution_count": null,
   "metadata": {
    "scrolled": true
   },
   "outputs": [],
   "source": [
    "# to resolve the iconclass id to natural language\n",
    "\n",
    "iconclass = df['iconclass'].fillna('')\n",
    "print(iconclass)\n",
    "\n",
    "def iconclass_resolution(iconclass_series):\n",
    "    ids = dict()\n",
    "    natural_series = list()\n",
    "    for i in iconclass_series:\n",
    "        if i == '':\n",
    "            natural_series.append('empty')\n",
    "        elif i in ids:\n",
    "            natural_series.append(ids[i])\n",
    "        else:\n",
    "            try:\n",
    "                request = rq.get('https://iconclass.org/%s.json'%(i))\n",
    "                json_data = request.json()\n",
    "                text = json_data['txt']['en']\n",
    "                print(text)\n",
    "                natural_series.append(text)\n",
    "                ids[i] = text\n",
    "            except:\n",
    "                print(f'{i} this code is not working')\n",
    "    return pd.Series(natural_series)\n",
    "\n",
    "iconclass_resolution(iconclass_series=iconclass)"
   ]
  },
  {
   "cell_type": "markdown",
   "metadata": {},
   "source": [
    "# Newer Dataset, guess what?...without IconClass notation \n",
    "These blocks will perform some exploratory and manipulative operations on the renewed dataset, it is in fact necessary to have nice visualization and truly understand the quantitative nature of the dataset itself.\n",
    "\n",
    "It is extracted from wikidata, we used mainly the wikidata query endpoint (https://query.wikidata.org), it has a built-in query system to rapidly browse properties and classes.\n",
    "\n",
    "The dataset itself presents some limitations that will be further discussed.\n",
    "\n",
    "```\n",
    "select ?movement ?movementLabel ?movstart ?movend ?artist ?artistLabel (group_concat (?viafart) as ?viafartist)\n",
    "?works ?worksLabel  (group_concat (?viafwork) as ?viafworks) ?workinception\n",
    "?symbols ?symbolsLabel ?genre ?genreLabel\n",
    "\n",
    "where {\n",
    "\n",
    "    {?artist wdt:P106 wd:Q1028181 .} UNION {?artist wdt:P106 wd:Q1925963 .}\n",
    "    {?artist wdt:P135 ?movement .}\n",
    "    optional {?movement wdt:P580 ?movstart .}\n",
    "    optional {?movement wdt:P582 ?movend .}\n",
    "    {?artist wdt:P800 ?works .}\n",
    "    optional {?artist wdt:P214 ?viafart .}\n",
    "    {?2dart wdt:P279 wd:Q110304307 .}\n",
    "    {?works wdt:P31 ?2dart .}\n",
    "    optional {?works wdt:P136 ?genre .}\n",
    "    optional {?works wdt:P214 ?viafwork .}\n",
    "    optional {?works wdt:P571 ?workinception .}\n",
    "    {?works wdt:P180 ?symbols .} # union {?works wdt:P1257 ?iconclass .}\n",
    "    SERVICE wikibase:label {bd:serviceParam wikibase:language \"en\".}\n",
    "\n",
    "}\n",
    "group by ?movement ?movementLabel ?movstart ?movend ?artist ?artistLabel ?works ?worksLabel ?workinception ?symbols ?symbolsLabel ?iconclass ?genre ?genreLabel\n",
    "```\n",
    "\n",
    "\n"
   ]
  },
  {
   "cell_type": "code",
   "execution_count": null,
   "metadata": {
    "scrolled": true
   },
   "outputs": [],
   "source": [
    "#dataset import and description\n",
    "\n",
    "import pandas as pd\n",
    "\n",
    "df = pd.read_csv('./dataset_wikidata.csv')\n",
    "\n",
    "print(df.info())\n",
    "print(df.describe())"
   ]
  },
  {
   "cell_type": "code",
   "execution_count": null,
   "metadata": {},
   "outputs": [],
   "source": [
    "#regroup naturalism and expressionism\n",
    "for index, row in df.iterrows():\n",
    "    if row['movementLabel'] == 'expressionism':\n",
    "        df.at[index, 'movementLabel'] = 'Expressionism'\n",
    "        df.at[index, 'movement'] = 'https://www.wikidata.org/wiki/Q80113'\n",
    "    if row['movementLabel'] == 'naturalism':\n",
    "        df.at[index, 'movementLabel'] = 'Naturalism'\n",
    "        df.at[index, 'movement'] = 'https://www.wikidata.org/wiki/Q55995'\n",
    "\n",
    "print(df.to_string())"
   ]
  },
  {
   "cell_type": "code",
   "execution_count": null,
   "metadata": {
    "scrolled": true
   },
   "outputs": [],
   "source": [
    "#grouping per movement and labels + counts\n",
    "\n",
    "work_group = df.groupby('worksLabel')\n",
    "\n",
    "symbols_group = df.groupby('symbolsLabel')\n",
    "df_symbols_freq = symbols_group.count()\n",
    "print(df_symbols_freq.to_string())"
   ]
  },
  {
   "cell_type": "code",
   "execution_count": null,
   "metadata": {},
   "outputs": [],
   "source": [
    "# Converting to the centuries all inception and movstart values\n",
    "\n",
    "df_centuries = df\n",
    "df_centuries = df_centuries.fillna('empty').rename(columns={'workinception':'century'})\n",
    "for index, row in df_centuries.iterrows():    \n",
    "    try:    \n",
    "        if row['century'] != 'empty':  \n",
    "            date = str(row['century']).split('-')[0]\n",
    "            # date = datetime.date.fromisoformat(date)\n",
    "            # year = date.year\n",
    "            df_centuries.at[index, 'century'] = (int(date) // 100 * 100)\n",
    "    except:\n",
    "        print(f\"{row['century']} - ERROR\")\n",
    "\n",
    "print(df_centuries.groupby(['symbolsLabel','century']).count().to_string())"
   ]
  },
  {
   "cell_type": "code",
   "execution_count": null,
   "metadata": {
    "scrolled": true
   },
   "outputs": [],
   "source": [
    "#peek into time values for movements, unifying inception and movstart\n",
    "\n",
    "df_time = df.fillna('empty')\n",
    "\n",
    "for index, row in df_time.iterrows():\n",
    "    if row['movstart'] == 'empty':\n",
    "        df_time.at[index, 'movstart'] = row['inception']\n",
    "\n",
    "df_time = df_time.drop(columns=['artist','artistLabel',\n",
    "'viafartist','works','worksLabel','viafworks','symbols',\n",
    "'symbolsLabel','genre','genreLabel',\n",
    "'movement','inception','workinception']).drop_duplicates().reset_index()\n",
    "\n",
    "print(df_time.drop(columns=['index']).to_string())"
   ]
  },
  {
   "cell_type": "code",
   "execution_count": null,
   "metadata": {},
   "outputs": [],
   "source": [
    "#top movements per works\n",
    "\n",
    "movement_group = df.groupby('movementLabel').nunique().sort_values('works')\n",
    "movement_group[['works']].sort_values('works', ascending=False)"
   ]
  },
  {
   "cell_type": "code",
   "execution_count": null,
   "metadata": {},
   "outputs": [],
   "source": [
    "#top artists per works\n",
    "\n",
    "df_artist = df.groupby('artistLabel').nunique()\n",
    "df_artist[['works']].sort_values(by='works', ascending=False)"
   ]
  },
  {
   "cell_type": "markdown",
   "metadata": {},
   "source": [
    "# Timeline graph (self contained)\n",
    "Data prepping for the timeline graph"
   ]
  },
  {
   "cell_type": "code",
   "execution_count": null,
   "metadata": {},
   "outputs": [],
   "source": [
    "import pandas as pd\n",
    "file_path = 'dataset_wikidata.csv'\n",
    "df = pd.read_csv(file_path)\n",
    "\n",
    "#regroup naturalism and expressionism\n",
    "for index, row in df.iterrows():\n",
    "    if row['movementLabel'] == 'expressionism':\n",
    "        df.at[index, 'movementLabel'] = 'Expressionism'\n",
    "        df.at[index, 'movement'] = 'https://www.wikidata.org/wiki/Q80113'\n",
    "    if row['movementLabel'] == 'naturalism':\n",
    "        df.at[index, 'movementLabel'] = 'Naturalism'\n",
    "        df.at[index, 'movement'] = 'https://www.wikidata.org/wiki/Q55995'\n",
    "\n",
    "\n",
    "# Seleziona le colonne desiderate\n",
    "df_subset = df[['movementLabel', 'movstart', 'movend', 'inception', 'works']]\n",
    "\n",
    "# Raggruppa per 'movementLabel' e conta il numero di opere in ciascun gruppo\n",
    "df_grouped = df_subset.groupby('movementLabel').agg({\n",
    "    'movstart': 'first',   # Assumi lo stesso valore di 'movstart' per tutto il gruppo\n",
    "    'movend': 'first',     # Assumi lo stesso valore di 'movend' per tutto il gruppo\n",
    "    'inception': 'first', # Assumi lo stesso valore di 'inception' per tutto il gruppo\n",
    "    'works': 'count'       # Conta il numero di opere nel gruppo\n",
    "}).reset_index()\n",
    "\n",
    "# Rinomina la colonna di conteggio\n",
    "df_grouped = df_grouped.rename(columns={'works': 'number_of_works'})\n",
    "\n",
    "# Ordina il dataframe in base al numero di opere in ordine decrescente\n",
    "df_sorted = df_grouped.sort_values(by='number_of_works', ascending=False)\n",
    "\n",
    "# Stampa il dataframe risultante\n",
    "df_sorted"
   ]
  },
  {
   "cell_type": "code",
   "execution_count": null,
   "metadata": {},
   "outputs": [],
   "source": [
    "df_temp = df_sorted.head(20).fillna('empty')\n",
    "\n",
    "for index, row in df_temp.iterrows():\n",
    "    if row['movstart'] == 'empty':\n",
    "        df_temp.at[index, 'movstart'] = row['inception']\n",
    "\n",
    "for index, row in df_temp.iterrows():    \n",
    "    if row['movstart'] != 'empty':\n",
    "        start_year = str(row['movstart']).split('-')[0]\n",
    "        df_temp.at[index, 'movstart'] = (int(start_year))\n",
    "    if row['movend'] != 'empty':\n",
    "        end_year= str(row['movend']).split('-')[0]\n",
    "        df_temp.at[index, 'movend'] = (int(end_year))\n",
    "\n",
    "df_time = df_temp.drop(columns=['inception']).drop_duplicates().reset_index()\n",
    "\n",
    "\n",
    "print(df_time.to_string())"
   ]
  },
  {
   "cell_type": "markdown",
   "metadata": {},
   "source": [
    "# Symbols in time and percentages (self contained)\n",
    "\n",
    "Data prepping for the evolution in time of main symbols and their percentages in centuries "
   ]
  },
  {
   "cell_type": "code",
   "execution_count": null,
   "metadata": {},
   "outputs": [],
   "source": [
    "#dataset import and description\n",
    "\n",
    "import pandas as pd\n",
    "\n",
    "df = pd.read_csv('./dataset_wikidata.csv')\n",
    "\n",
    "print(df.info())\n",
    "print(df.describe())\n",
    "\n",
    "#regroup naturalism and expressionism\n",
    "for index, row in df.iterrows():\n",
    "    if row['movementLabel'] == 'expressionism':\n",
    "        df.at[index, 'movementLabel'] = 'Expressionism'\n",
    "        df.at[index, 'movement'] = 'https://www.wikidata.org/wiki/Q80113'\n",
    "    if row['movementLabel'] == 'naturalism':\n",
    "        df.at[index, 'movementLabel'] = 'Naturalism'\n",
    "        df.at[index, 'movement'] = 'https://www.wikidata.org/wiki/Q55995'\n",
    "\n",
    "df"
   ]
  },
  {
   "cell_type": "code",
   "execution_count": null,
   "metadata": {},
   "outputs": [],
   "source": [
    "df_centuries = df\n",
    "df_centuries = df_centuries.fillna('empty')\n",
    "for index, row in df_centuries.iterrows():    \n",
    "    try:    \n",
    "        if row['workinception'] != 'empty':  \n",
    "            date = str(row['workinception']).split('-')[0]\n",
    "            # date = datetime.date.fromisoformat(date)\n",
    "            # year = date.year\n",
    "            df_centuries.at[index, 'workinception'] = (int(date) // 100 * 100)\n",
    "    except:\n",
    "        print(row['workinception'])\n",
    "        print(index)\n",
    "\n",
    "df_centuries = df_centuries.rename(columns={'workinception': 'century'})\n",
    "df_centuries"
   ]
  },
  {
   "cell_type": "code",
   "execution_count": null,
   "metadata": {},
   "outputs": [],
   "source": [
    "df_test = df_centuries[['symbolsLabel', 'century']]\n",
    "df_test.head()"
   ]
  },
  {
   "cell_type": "code",
   "execution_count": null,
   "metadata": {},
   "outputs": [],
   "source": [
    "df_count = df_test.value_counts('symbolsLabel').sort_values(ascending=False)\n",
    "print(df_count)\n",
    "df_topk = df_count.head(10)\n",
    "print(df_topk)"
   ]
  },
  {
   "cell_type": "code",
   "execution_count": null,
   "metadata": {},
   "outputs": [],
   "source": [
    "df_topk_list = df_topk.index.tolist()\n",
    "print(df_topk_list)"
   ]
  },
  {
   "cell_type": "code",
   "execution_count": null,
   "metadata": {},
   "outputs": [],
   "source": [
    "# da sistemare\n",
    "df_filtered = df_test[df_test['symbolsLabel'].isin(df_topk_list)]\n",
    "# print(df_filtered)\n",
    "\n",
    "# df_filtered = df_test.query(\"symbolsLabel in @topk_list\")\n",
    "sym_in_time = df_filtered.groupby('century')['symbolsLabel'].value_counts()\n",
    "with pd.option_context('display.max_rows', None, 'display.max_columns', None):\n",
    "    print(sym_in_time)"
   ]
  },
  {
   "cell_type": "code",
   "execution_count": null,
   "metadata": {},
   "outputs": [],
   "source": [
    "# df_filtered = df_test.query(\"symbolsLabel in @topk_list\")\n",
    "sym_in_time = df_test.groupby('century')['symbolsLabel'].value_counts()\n",
    "with pd.option_context('display.max_rows', None, 'display.max_columns', None):\n",
    "    print(sym_in_time)"
   ]
  },
  {
   "cell_type": "code",
   "execution_count": null,
   "metadata": {},
   "outputs": [],
   "source": [
    "sym_total_in_time = df_test.groupby('century')['symbolsLabel'].count()\n",
    "sym_total_in_time"
   ]
  },
  {
   "cell_type": "code",
   "execution_count": null,
   "metadata": {},
   "outputs": [],
   "source": [
    "import pandas as pd\n",
    "\n",
    "# Dati delle occorrenze dei simboli per ogni secolo\n",
    "data_symbols = {\n",
    "    'century': [1200, 1300, 1400, 1500, 1600, 1700, 1800, 1900, 2000, 'empty', 'http://www.wikidata.org/.well-known/genid/c2e5bc33ccf184eb506b4c4166309cf9'],\n",
    "    'Virgin Mary': [6, 16, 102, 89, 20, 1, 19, 5, 0, 1, 0],\n",
    "    'woman': [6, 8, 98, 129, 115, 62, 477, 228, 6, 30, 0],\n",
    "    'waist-length hair': [1, 0, 8, 42, 31, 12, 127, 23, 4, 0, 2],\n",
    "    'Jesus': [0, 9, 56, 50, 28, 4, 39, 5, 0, 0, 0],\n",
    "    'man': [0, 4, 61, 86, 117, 42, 248, 73, 3, 3, 0],\n",
    "    'sky': [0, 0, 10, 32, 56, 17, 184, 36, 4, 6, 0],\n",
    "    'sitting': [0, 0, 8, 18, 8, 23, 179, 37, 0, 12, 0],\n",
    "    'tree': [0, 0, 8, 27, 51, 18, 141, 37, 0, 14, 0],\n",
    "    'cloud': [0, 0, 3, 19, 44, 10, 92, 14, 4, 4, 0],\n",
    "    'nudity': [0, 0, 2, 45, 38, 19, 151, 77, 4, 13, 0]\n",
    "}\n",
    "\n",
    "# Dati totali dei simboli per ogni secolo\n",
    "total_symbols = {\n",
    "    'century': [1200, 1300, 1400, 1500, 1600, 1700, 1800, 1900, 2000, 'empty', 'http://www.wikidata.org/.well-known/genid/c2e5bc33ccf184eb506b4c4166309cf9'],\n",
    "    'total': [52, 109, 1571, 2810, 3611, 1564, 11236, 3020, 294, 436, 50]\n",
    "}\n",
    "\n",
    "# Convertiamo i dizionari in dataframe\n",
    "df_symbols = pd.DataFrame(data_symbols)\n",
    "df_total = pd.DataFrame(total_symbols)\n",
    "\n",
    "# Uniamo i due dataframe sulla colonna 'century'\n",
    "df_merged = pd.merge(df_symbols, df_total, on='century')\n",
    "\n",
    "# Calcoliamo la percentuale delle occorrenze di ciascun simbolo rispetto al totale per ogni secolo\n",
    "symbol_columns = df_symbols.columns[1:]\n",
    "for symbol in symbol_columns:\n",
    "    df_merged[f'{symbol}_percent'] = (df_merged[symbol] / df_merged['total']) * 100\n",
    "\n",
    "# Visualizziamo il risultato\n",
    "df_merged[['century'] + [f'{symbol}_percent' for symbol in symbol_columns]]"
   ]
  },
  {
   "cell_type": "markdown",
   "metadata": {},
   "source": [
    "# Genre in Time (self contained)\n",
    "Data prepping for the genre in time timeline"
   ]
  },
  {
   "cell_type": "code",
   "execution_count": null,
   "metadata": {},
   "outputs": [],
   "source": [
    "import pandas as pd\n",
    "\n",
    "df = pd.read_csv('dataset_wikidata.csv')\n",
    "\n",
    "genre_group = df[['movementLabel','genreLabel']]\n",
    "genre_count = genre_group.value_counts('genreLabel').sort_values(ascending=False)\n",
    "movement_count = genre_group.value_counts('movementLabel').sort_values(ascending=False)\n",
    "genre_top = genre_count.head(10).index.tolist()\n",
    "movement_top = movement_count.head(10).index.tolist()\n",
    "movement_top"
   ]
  },
  {
   "cell_type": "code",
   "execution_count": null,
   "metadata": {},
   "outputs": [],
   "source": [
    "#top 10 genre and movements\n",
    "\n",
    "genre_filtered = genre_group[genre_group['genreLabel'].isin(genre_top)]\n",
    "movement_filtered = genre_group[genre_group['movementLabel'].isin(movement_top)][genre_group['genreLabel'].isin(genre_top)]\n",
    "combined_df = pd.concat([genre_filtered, movement_filtered])\n",
    "print(movement_filtered.groupby('movementLabel')['genreLabel'].value_counts().to_string())\n"
   ]
  },
  {
   "cell_type": "code",
   "execution_count": null,
   "metadata": {},
   "outputs": [],
   "source": [
    "opposed_filtered = movement_filtered[movement_filtered['genreLabel'].isin(['landscape painting', 'portrait', 'group portrait', 'nude'])]\n",
    "print(opposed_filtered.groupby('movementLabel').value_counts().to_string())"
   ]
  },
  {
   "cell_type": "code",
   "execution_count": null,
   "metadata": {},
   "outputs": [],
   "source": [
    "work_group = df.sort_values('works').reset_index()\n",
    "print(work_group[['worksLabel','genreLabel']].drop_duplicates().to_string())"
   ]
  },
  {
   "cell_type": "code",
   "execution_count": null,
   "metadata": {},
   "outputs": [],
   "source": []
  }
 ],
 "metadata": {
  "kernelspec": {
   "display_name": "Python 3 (ipykernel)",
   "language": "python",
   "name": "python3"
  },
  "language_info": {
   "codemirror_mode": {
    "name": "ipython",
    "version": 3
   },
   "file_extension": ".py",
   "mimetype": "text/x-python",
   "name": "python",
   "nbconvert_exporter": "python",
   "pygments_lexer": "ipython3",
   "version": "3.11.9"
  }
 },
 "nbformat": 4,
 "nbformat_minor": 4
}
