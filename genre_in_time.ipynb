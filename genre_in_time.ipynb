{
 "cells": [
  {
   "cell_type": "code",
   "execution_count": 1,
   "metadata": {},
   "outputs": [
    {
     "data": {
      "text/plain": [
       "['Baroque',\n",
       " 'Symbolism',\n",
       " 'Impressionism',\n",
       " 'Romanticism',\n",
       " 'neoclassicism',\n",
       " 'academic art',\n",
       " 'Realism',\n",
       " 'realism',\n",
       " 'Rococo',\n",
       " 'mannerism']"
      ]
     },
     "execution_count": 1,
     "metadata": {},
     "output_type": "execute_result"
    }
   ],
   "source": [
    "import pandas as pd\n",
    "\n",
    "df = pd.read_csv('dataset_wikidata.csv')\n",
    "\n",
    "genre_group = df[['movementLabel','genreLabel']]\n",
    "genre_count = genre_group.value_counts('genreLabel').sort_values(ascending=False)\n",
    "movement_count = genre_group.value_counts('movementLabel').sort_values(ascending=False)\n",
    "genre_top = genre_count.head(10).index.tolist()\n",
    "movement_top = movement_count.head(10).index.tolist()\n",
    "movement_top"
   ]
  },
  {
   "cell_type": "code",
   "execution_count": 2,
   "metadata": {},
   "outputs": [
    {
     "name": "stdout",
     "output_type": "stream",
     "text": [
      "movementLabel  genreLabel           \n",
      "Baroque        mythological painting    262\n",
      "               religious art            259\n",
      "               genre art                187\n",
      "               landscape painting       170\n",
      "               portrait                 168\n",
      "               history painting         134\n",
      "               nude                     123\n",
      "               allegory                  45\n",
      "               group portrait            31\n",
      "Impressionism  genre art                361\n",
      "               portrait                 273\n",
      "               landscape painting       261\n",
      "               nude                     111\n",
      "               group portrait            61\n",
      "               figure painting           39\n",
      "               history painting          30\n",
      "               religious art             22\n",
      "               mythological painting     21\n",
      "               allegory                  11\n",
      "Realism        genre art                204\n",
      "               portrait                 105\n",
      "               nude                      66\n",
      "               figure painting           58\n",
      "               group portrait            43\n",
      "               allegory                  42\n",
      "               landscape painting        24\n",
      "               mythological painting     20\n",
      "               religious art             14\n",
      "Rococo         portrait                 188\n",
      "               nude                     137\n",
      "               genre art                 95\n",
      "               mythological painting     80\n",
      "               religious art             73\n",
      "               history painting          30\n",
      "               landscape painting        24\n",
      "               group portrait            17\n",
      "Romanticism    history painting         262\n",
      "               nude                     221\n",
      "               landscape painting       136\n",
      "               mythological painting    125\n",
      "               religious art            121\n",
      "               portrait                  97\n",
      "               genre art                 49\n",
      "               allegory                  31\n",
      "               figure painting           23\n",
      "               group portrait             5\n",
      "Symbolism      genre art                304\n",
      "               portrait                 203\n",
      "               nude                     190\n",
      "               mythological painting    155\n",
      "               religious art            142\n",
      "               allegory                 117\n",
      "               history painting          95\n",
      "               landscape painting        82\n",
      "               figure painting           76\n",
      "               group portrait            58\n",
      "academic art   nude                     359\n",
      "               history painting         155\n",
      "               mythological painting    142\n",
      "               genre art                135\n",
      "               allegory                 133\n",
      "               portrait                  92\n",
      "               landscape painting        27\n",
      "               religious art             26\n",
      "               figure painting           21\n",
      "               group portrait             5\n",
      "mannerism      religious art            200\n",
      "               mythological painting    176\n",
      "               nude                     145\n",
      "               portrait                  35\n",
      "               group portrait            26\n",
      "               genre art                 24\n",
      "               landscape painting        12\n",
      "               allegory                  11\n",
      "               history painting           1\n",
      "neoclassicism  history painting         241\n",
      "               nude                     207\n",
      "               portrait                 190\n",
      "               mythological painting    150\n",
      "               allegory                  93\n",
      "               religious art             61\n",
      "               genre art                 34\n",
      "               figure painting           23\n",
      "               group portrait             7\n",
      "               landscape painting         4\n",
      "realism        genre art                206\n",
      "               history painting         113\n",
      "               portrait                  99\n",
      "               landscape painting        97\n",
      "               group portrait            68\n",
      "               nude                      47\n",
      "               religious art             25\n",
      "               mythological painting     12\n",
      "               figure painting           11\n"
     ]
    },
    {
     "name": "stderr",
     "output_type": "stream",
     "text": [
      "/tmp/ipykernel_365/844227951.py:4: UserWarning: Boolean Series key will be reindexed to match DataFrame index.\n",
      "  movement_filtered = genre_group[genre_group['movementLabel'].isin(movement_top)][genre_group['genreLabel'].isin(genre_top)]\n"
     ]
    }
   ],
   "source": [
    "#top 10 genre and movements\n",
    "\n",
    "genre_filtered = genre_group[genre_group['genreLabel'].isin(genre_top)]\n",
    "movement_filtered = genre_group[genre_group['movementLabel'].isin(movement_top)][genre_group['genreLabel'].isin(genre_top)]\n",
    "combined_df = pd.concat([genre_filtered, movement_filtered])\n",
    "print(movement_filtered.groupby('movementLabel')['genreLabel'].value_counts().to_string())\n"
   ]
  },
  {
   "cell_type": "code",
   "execution_count": 12,
   "metadata": {},
   "outputs": [
    {
     "name": "stdout",
     "output_type": "stream",
     "text": [
      "movementLabel  genreLabel        \n",
      "Baroque        landscape painting    170\n",
      "               portrait              168\n",
      "               nude                  123\n",
      "               group portrait         31\n",
      "Impressionism  portrait              273\n",
      "               landscape painting    261\n",
      "               nude                  111\n",
      "               group portrait         61\n",
      "Realism        portrait              105\n",
      "               nude                   66\n",
      "               group portrait         43\n",
      "               landscape painting     24\n",
      "Rococo         portrait              188\n",
      "               nude                  137\n",
      "               landscape painting     24\n",
      "               group portrait         17\n",
      "Romanticism    nude                  221\n",
      "               landscape painting    136\n",
      "               portrait               97\n",
      "               group portrait          5\n",
      "Symbolism      portrait              203\n",
      "               nude                  190\n",
      "               landscape painting     82\n",
      "               group portrait         58\n",
      "academic art   nude                  359\n",
      "               portrait               92\n",
      "               landscape painting     27\n",
      "               group portrait          5\n",
      "mannerism      nude                  145\n",
      "               portrait               35\n",
      "               group portrait         26\n",
      "               landscape painting     12\n",
      "neoclassicism  nude                  207\n",
      "               portrait              190\n",
      "               group portrait          7\n",
      "               landscape painting      4\n",
      "realism        portrait               99\n",
      "               landscape painting     97\n",
      "               group portrait         68\n",
      "               nude                   47\n"
     ]
    }
   ],
   "source": [
    "opposed_filtered = movement_filtered[movement_filtered['genreLabel'].isin(['landscape painting', 'portrait', 'group portrait', 'nude'])]\n",
    "print(opposed_filtered.groupby('movementLabel').value_counts().to_string())"
   ]
  }
 ],
 "metadata": {
  "kernelspec": {
   "display_name": "Python 3 (ipykernel)",
   "language": "python",
   "name": "python3"
  },
  "language_info": {
   "codemirror_mode": {
    "name": "ipython",
    "version": 3
   },
   "file_extension": ".py",
   "mimetype": "text/x-python",
   "name": "python",
   "nbconvert_exporter": "python",
   "pygments_lexer": "ipython3",
   "version": "3.11.9"
  }
 },
 "nbformat": 4,
 "nbformat_minor": 4
}
