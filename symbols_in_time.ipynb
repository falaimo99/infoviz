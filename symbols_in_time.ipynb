{
 "cells": [
  {
   "cell_type": "code",
   "execution_count": null,
   "metadata": {},
   "outputs": [],
   "source": [
    "#dataset import and description\n",
    "\n",
    "import pandas as pd\n",
    "\n",
    "df = pd.read_csv('./dataset_wikidata.csv')\n",
    "\n",
    "print(df.info())\n",
    "print(df.describe())\n",
    "\n",
    "#regroup naturalism and expressionism\n",
    "for index, row in df.iterrows():\n",
    "    if row['movementLabel'] == 'expressionism':\n",
    "        df.at[index, 'movementLabel'] = 'Expressionism'\n",
    "        df.at[index, 'movement'] = 'https://www.wikidata.org/wiki/Q80113'\n",
    "    if row['movementLabel'] == 'naturalism':\n",
    "        df.at[index, 'movementLabel'] = 'Naturalism'\n",
    "        df.at[index, 'movement'] = 'https://www.wikidata.org/wiki/Q55995'\n",
    "\n",
    "df"
   ]
  },
  {
   "cell_type": "code",
   "execution_count": null,
   "metadata": {
    "collapsed": true,
    "jupyter": {
     "outputs_hidden": true
    }
   },
   "outputs": [],
   "source": [
    "df_centuries = df\n",
    "df_centuries = df_centuries.fillna('empty')\n",
    "for index, row in df_centuries.iterrows():    \n",
    "    try:    \n",
    "        if row['workinception'] != 'empty':  \n",
    "            date = str(row['workinception']).split('-')[0]\n",
    "            # date = datetime.date.fromisoformat(date)\n",
    "            # year = date.year\n",
    "            df_centuries.at[index, 'workinception'] = (int(date) // 100 * 100)\n",
    "    except:\n",
    "        print(row['workinception'])\n",
    "        print(index)\n",
    "\n",
    "df_centuries = df_centuries.rename(columns={'workinception': 'century'})\n",
    "df_centuries"
   ]
  },
  {
   "cell_type": "code",
   "execution_count": null,
   "metadata": {
    "collapsed": true,
    "jupyter": {
     "outputs_hidden": true
    }
   },
   "outputs": [],
   "source": [
    "df_test = df_centuries[['symbolsLabel', 'century']]\n",
    "df_test.head()"
   ]
  },
  {
   "cell_type": "code",
   "execution_count": null,
   "metadata": {
    "collapsed": true,
    "jupyter": {
     "outputs_hidden": true
    }
   },
   "outputs": [],
   "source": [
    "df_count = df_test.value_counts('symbolsLabel').sort_values(ascending=False)\n",
    "print(df_count)\n",
    "df_topk = df_count.head(10)\n",
    "print(df_topk)"
   ]
  },
  {
   "cell_type": "code",
   "execution_count": null,
   "metadata": {
    "collapsed": true,
    "jupyter": {
     "outputs_hidden": true
    }
   },
   "outputs": [],
   "source": [
    "# crea lista top 10 simboli\n",
    "df_topk_list = df_topk.index.tolist()\n",
    "print(df_topk_list)"
   ]
  },
  {
   "cell_type": "code",
   "execution_count": null,
   "metadata": {
    "collapsed": true,
    "jupyter": {
     "outputs_hidden": true
    }
   },
   "outputs": [],
   "source": [
    "# da sistemare\n",
    "df_filtered = df_test[df_test['symbolsLabel'].isin(df_topk_list)]\n",
    "# print(df_filtered)\n",
    "\n",
    "# df_filtered = df_test.query(\"symbolsLabel in @topk_list\")\n",
    "sym_in_time = df_filtered.groupby('century')['symbolsLabel'].value_counts()\n",
    "with pd.option_context('display.max_rows', None, 'display.max_columns', None):\n",
    "    print(sym_in_time)"
   ]
  },
  {
   "cell_type": "code",
   "execution_count": null,
   "metadata": {
    "collapsed": true,
    "jupyter": {
     "outputs_hidden": true
    }
   },
   "outputs": [],
   "source": [
    "# df_filtered = df_test.query(\"symbolsLabel in @topk_list\")\n",
    "sym_in_time = df_test.groupby('century')['symbolsLabel'].value_counts()\n",
    "with pd.option_context('display.max_rows', None, 'display.max_columns', None):\n",
    "    print(sym_in_time)\n",
    "    "
   ]
  },
  {
   "cell_type": "code",
   "execution_count": null,
   "metadata": {
    "collapsed": true,
    "jupyter": {
     "outputs_hidden": true
    }
   },
   "outputs": [],
   "source": [
    "sym_total_in_time = df_test.groupby('century')['symbolsLabel'].count()\n",
    "sym_total_in_time"
   ]
  },
  {
   "cell_type": "code",
   "execution_count": null,
   "metadata": {},
   "outputs": [],
   "source": [
    "import pandas as pd\n",
    "\n",
    "# Dati delle occorrenze dei simboli per ogni secolo\n",
    "data_symbols = {\n",
    "    'century': [1200, 1300, 1400, 1500, 1600, 1700, 1800, 1900, 2000, 'empty', 'http://www.wikidata.org/.well-known/genid/c2e5bc33ccf184eb506b4c4166309cf9'],\n",
    "    'Virgin Mary': [6, 16, 102, 89, 20, 1, 19, 5, 0, 1, 0],\n",
    "    'woman': [6, 8, 98, 129, 115, 62, 477, 228, 6, 30, 0],\n",
    "    'waist-length hair': [1, 0, 8, 42, 31, 12, 127, 23, 4, 0, 2],\n",
    "    'Jesus': [0, 9, 56, 50, 28, 4, 39, 5, 0, 0, 0],\n",
    "    'man': [0, 4, 61, 86, 117, 42, 248, 73, 3, 3, 0],\n",
    "    'sky': [0, 0, 10, 32, 56, 17, 184, 36, 4, 6, 0],\n",
    "    'sitting': [0, 0, 8, 18, 8, 23, 179, 37, 0, 12, 0],\n",
    "    'tree': [0, 0, 8, 27, 51, 18, 141, 37, 0, 14, 0],\n",
    "    'cloud': [0, 0, 3, 19, 44, 10, 92, 14, 4, 4, 0],\n",
    "    'nudity': [0, 0, 2, 45, 38, 19, 151, 77, 4, 13, 0]\n",
    "}\n",
    "\n",
    "# Dati totali dei simboli per ogni secolo\n",
    "total_symbols = {\n",
    "    'century': [1200, 1300, 1400, 1500, 1600, 1700, 1800, 1900, 2000, 'empty', 'http://www.wikidata.org/.well-known/genid/c2e5bc33ccf184eb506b4c4166309cf9'],\n",
    "    'total': [52, 109, 1571, 2810, 3611, 1564, 11236, 3020, 294, 436, 50]\n",
    "}\n",
    "\n",
    "# Convertiamo i dizionari in dataframe\n",
    "df_symbols = pd.DataFrame(data_symbols)\n",
    "df_total = pd.DataFrame(total_symbols)\n",
    "\n",
    "# Uniamo i due dataframe sulla colonna 'century'\n",
    "df_merged = pd.merge(df_symbols, df_total, on='century')\n",
    "\n",
    "# Calcoliamo la percentuale delle occorrenze di ciascun simbolo rispetto al totale per ogni secolo\n",
    "symbol_columns = df_symbols.columns[1:]\n",
    "for symbol in symbol_columns:\n",
    "    df_merged[f'{symbol}_percent'] = (df_merged[symbol] / df_merged['total']) * 100\n",
    "\n",
    "# Visualizziamo il risultato\n",
    "df_merged[['century'] + [f'{symbol}_percent' for symbol in symbol_columns]]\n"
   ]
  }
 ],
 "metadata": {
  "kernelspec": {
   "display_name": "Python 3 (ipykernel)",
   "language": "python",
   "name": "python3"
  },
  "language_info": {
   "codemirror_mode": {
    "name": "ipython",
    "version": 3
   },
   "file_extension": ".py",
   "mimetype": "text/x-python",
   "name": "python",
   "nbconvert_exporter": "python",
   "pygments_lexer": "ipython3",
   "version": "3.11.9"
  }
 },
 "nbformat": 4,
 "nbformat_minor": 4
}
